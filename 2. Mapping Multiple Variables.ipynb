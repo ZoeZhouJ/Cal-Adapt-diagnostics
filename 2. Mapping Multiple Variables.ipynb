{
 "cells": [
  {
   "cell_type": "markdown",
   "id": "9687c898-2f0a-4842-952a-baf12c7b83b4",
   "metadata": {},
   "source": [
    "# Mapping Multiple Variables: Cal-Adapt\n",
    "### Authors\n",
    "\n",
    "Samantha Stevenson sstevenson@ucsb.edu\n",
    "\n",
    "### Table of Contents\n",
    "\n",
    "[Goals](#purpose)\n",
    "\n",
    "[Import Packages](#path)\n",
    "\n",
    "[Background](#caladapt)\n",
    "\n",
    "[Load and Query the Cal-Adapt Catalog](#load)\n",
    "\n",
    "[Read in Data](#xarray)\n",
    "\n",
    "[Make Maps](#maps)"
   ]
  },
  {
   "cell_type": "markdown",
   "id": "89b4dc47-5284-4465-b599-cef6bab9280c",
   "metadata": {},
   "source": [
    "<a id='purpose'></a> \n",
    "## **Goals**\n",
    "\n",
    "In this tutorial, we will continue working with the [Cal-Adapt Analytics Engine Data Catalog](https://analytics.cal-adapt.org/data/catalog/), to visualize multiple geospatial data fields on the same plot!\n",
    "\n",
    "Skills provided in this tutorial:\n",
    "- Mapping, including displaying geospatial features using shape files;\n",
    "- Using **contour** and **vector** plots to display multiple variables on a map at once!"
   ]
  },
  {
   "cell_type": "code",
   "execution_count": null,
   "id": "ebfe49fd-8c54-439e-a603-dd5f89028e7d",
   "metadata": {},
   "outputs": [],
   "source": []
  }
 ],
 "metadata": {
  "kernelspec": {
   "display_name": "Python 3 (ipykernel)",
   "language": "python",
   "name": "python3"
  },
  "language_info": {
   "codemirror_mode": {
    "name": "ipython",
    "version": 3
   },
   "file_extension": ".py",
   "mimetype": "text/x-python",
   "name": "python",
   "nbconvert_exporter": "python",
   "pygments_lexer": "ipython3",
   "version": "3.7.13"
  }
 },
 "nbformat": 4,
 "nbformat_minor": 5
}
